{
 "cells": [
  {
   "cell_type": "markdown",
   "id": "35f559a6",
   "metadata": {},
   "source": [
    "### Enforce Structured Output\n",
    "___\n",
    "* It is kinda magical that the agent returns a Model object. Behind the scene, the model actually returns a JSON-like response that conforms to the structure of the Model object.\n",
    "* The key-value pairs in the JSON-like object are populated back into the Model attributes."
   ]
  },
  {
   "cell_type": "code",
   "execution_count": 2,
   "id": "ccbea89d",
   "metadata": {},
   "outputs": [],
   "source": [
    "from pydantic import BaseModel, Field\n",
    "from agents import Agent\n",
    "\n",
    "class Answer(BaseModel):\n",
    "    reason: str = Field(description=\"Your reasoning for why this answer is correct.\")\n",
    "    answer: str = Field(description=\"The answer to the question.\")\n",
    "\n",
    "answer_agent = Agent(\n",
    "    name=\"AnswerAgent\",\n",
    "    instructions=\"You are helpful assistant. Given a question, you answer it.\",\n",
    "    model=\"gpt-4o-mini\",\n",
    "    output_type=Answer,\n",
    ")"
   ]
  },
  {
   "cell_type": "markdown",
   "id": "820c70a0",
   "metadata": {},
   "source": [
    "### Convert a Function to a Tool\n",
    "___\n",
    "* Automatically convert a function to a JSON blueprint of tool"
   ]
  },
  {
   "cell_type": "code",
   "execution_count": 7,
   "id": "710f7089",
   "metadata": {},
   "outputs": [
    {
     "data": {
      "text/plain": [
       "FunctionTool(name='some_tool', description='Description of the tool', params_json_schema={'properties': {'arg1': {'title': 'Arg1', 'type': 'string'}, 'arg2': {'title': 'Arg2', 'type': 'string'}}, 'required': ['arg1', 'arg2'], 'title': 'some_tool_args', 'type': 'object', 'additionalProperties': False}, on_invoke_tool=<function function_tool.<locals>._create_function_tool.<locals>._on_invoke_tool at 0x0000018E717ADDA0>, strict_json_schema=True, is_enabled=True)"
      ]
     },
     "execution_count": 7,
     "metadata": {},
     "output_type": "execute_result"
    }
   ],
   "source": [
    "from agents import function_tool\n",
    "\n",
    "@function_tool\n",
    "def some_tool(arg1: str, arg2: str) -> str:\n",
    "    \"Description of the tool\"\n",
    "    pass\n",
    "\n",
    "## View the tool blueprint\n",
    "some_tool"
   ]
  },
  {
   "cell_type": "code",
   "execution_count": null,
   "id": "65980802",
   "metadata": {},
   "outputs": [],
   "source": []
  }
 ],
 "metadata": {
  "kernelspec": {
   "display_name": ".venv",
   "language": "python",
   "name": "python3"
  },
  "language_info": {
   "codemirror_mode": {
    "name": "ipython",
    "version": 3
   },
   "file_extension": ".py",
   "mimetype": "text/x-python",
   "name": "python",
   "nbconvert_exporter": "python",
   "pygments_lexer": "ipython3",
   "version": "3.12.11"
  }
 },
 "nbformat": 4,
 "nbformat_minor": 5
}
